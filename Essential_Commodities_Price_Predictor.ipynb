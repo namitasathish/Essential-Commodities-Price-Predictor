{
  "nbformat": 4,
  "nbformat_minor": 0,
  "metadata": {
    "colab": {
      "provenance": [],
      "gpuType": "V28",
      "toc_visible": true,
      "authorship_tag": "ABX9TyM/JUKace14KYky1Fz50Rcw",
      "include_colab_link": true
    },
    "kernelspec": {
      "name": "python3",
      "display_name": "Python 3"
    },
    "language_info": {
      "name": "python"
    },
    "accelerator": "TPU"
  },
  "cells": [
    {
      "cell_type": "markdown",
      "metadata": {
        "id": "view-in-github",
        "colab_type": "text"
      },
      "source": [
        "<a href=\"https://colab.research.google.com/github/namitasathish/Essential-Commodities-Price-Predictor-MODEL/blob/main/Essential_Commodities_Price_Predictor.ipynb\" target=\"_parent\"><img src=\"https://colab.research.google.com/assets/colab-badge.svg\" alt=\"Open In Colab\"/></a>"
      ]
    },
    {
      "cell_type": "code",
      "execution_count": null,
      "metadata": {
        "id": "W91WS3UMymUn"
      },
      "outputs": [],
      "source": [
        "import pandas as pd\n",
        "import numpy as np\n",
        "from statsmodels.tsa.arima.model import ARIMA\n",
        "import warnings"
      ]
    },
    {
      "cell_type": "code",
      "source": [
        "pip install statsmodels"
      ],
      "metadata": {
        "colab": {
          "base_uri": "https://localhost:8080/"
        },
        "id": "gy9z9DDjzW3k",
        "outputId": "0e71a7c2-7eac-42f0-c167-37e583c8a0ae"
      },
      "execution_count": null,
      "outputs": [
        {
          "output_type": "stream",
          "name": "stdout",
          "text": [
            "Collecting statsmodels\n",
            "  Downloading statsmodels-0.14.2-cp310-cp310-manylinux_2_17_x86_64.manylinux2014_x86_64.whl.metadata (9.2 kB)\n",
            "Requirement already satisfied: numpy>=1.22.3 in /usr/local/lib/python3.10/dist-packages (from statsmodels) (1.26.4)\n",
            "Requirement already satisfied: scipy!=1.9.2,>=1.8 in /usr/local/lib/python3.10/dist-packages (from statsmodels) (1.13.1)\n",
            "Requirement already satisfied: pandas!=2.1.0,>=1.4 in /usr/local/lib/python3.10/dist-packages (from statsmodels) (2.1.4)\n",
            "Collecting patsy>=0.5.6 (from statsmodels)\n",
            "  Downloading patsy-0.5.6-py2.py3-none-any.whl.metadata (3.5 kB)\n",
            "Requirement already satisfied: packaging>=21.3 in /usr/local/lib/python3.10/dist-packages (from statsmodels) (24.1)\n",
            "Requirement already satisfied: python-dateutil>=2.8.2 in /usr/local/lib/python3.10/dist-packages (from pandas!=2.1.0,>=1.4->statsmodels) (2.9.0.post0)\n",
            "Requirement already satisfied: pytz>=2020.1 in /usr/local/lib/python3.10/dist-packages (from pandas!=2.1.0,>=1.4->statsmodels) (2024.1)\n",
            "Requirement already satisfied: tzdata>=2022.1 in /usr/local/lib/python3.10/dist-packages (from pandas!=2.1.0,>=1.4->statsmodels) (2024.1)\n",
            "Requirement already satisfied: six in /usr/local/lib/python3.10/dist-packages (from patsy>=0.5.6->statsmodels) (1.16.0)\n",
            "Downloading statsmodels-0.14.2-cp310-cp310-manylinux_2_17_x86_64.manylinux2014_x86_64.whl (10.8 MB)\n",
            "\u001b[2K   \u001b[90m━━━━━━━━━━━━━━━━━━━━━━━━━━━━━━━━━━━━━━━━\u001b[0m \u001b[32m10.8/10.8 MB\u001b[0m \u001b[31m48.8 MB/s\u001b[0m eta \u001b[36m0:00:00\u001b[0m\n",
            "\u001b[?25hDownloading patsy-0.5.6-py2.py3-none-any.whl (233 kB)\n",
            "\u001b[2K   \u001b[90m━━━━━━━━━━━━━━━━━━━━━━━━━━━━━━━━━━━━━━━━\u001b[0m \u001b[32m233.9/233.9 kB\u001b[0m \u001b[31m12.1 MB/s\u001b[0m eta \u001b[36m0:00:00\u001b[0m\n",
            "\u001b[?25hInstalling collected packages: patsy, statsmodels\n",
            "Successfully installed patsy-0.5.6 statsmodels-0.14.2\n"
          ]
        }
      ]
    },
    {
      "cell_type": "code",
      "source": [
        "warnings.filterwarnings(\"ignore\")"
      ],
      "metadata": {
        "id": "fdd6HIvhy9Za"
      },
      "execution_count": null,
      "outputs": []
    },
    {
      "cell_type": "code",
      "source": [
        "file_path = '/content/RS_Session_260_AU_1830_1.csv'\n",
        "df = pd.read_csv(file_path)\n",
        "print(df.head())\n",
        "df.shape"
      ],
      "metadata": {
        "colab": {
          "base_uri": "https://localhost:8080/"
        },
        "id": "Y_L11U8wy_jM",
        "outputId": "a12b8374-abe1-4a29-8865-cd6e11575037"
      },
      "execution_count": null,
      "outputs": [
        {
          "output_type": "stream",
          "name": "stdout",
          "text": [
            "   Sl. No.                      Food Commodities             Units  \\\n",
            "0        1  Annual Average Retail Prices of Rice  Unit - (Rs./Kg.)   \n",
            "1        2  Annual Average Retail Prices of Rice  Unit - (Rs./Kg.)   \n",
            "2        3  Annual Average Retail Prices of Rice  Unit - (Rs./Kg.)   \n",
            "3        4  Annual Average Retail Prices of Rice  Unit - (Rs./Kg.)   \n",
            "4        5  Annual Average Retail Prices of Rice  Unit - (Rs./Kg.)   \n",
            "\n",
            "              State/UT   2018   2019   2020   2021   2022   2023  \n",
            "0  Andaman and Nicobar  34.15  38.82  43.11  42.75  44.60  41.22  \n",
            "1       Andhra Pradesh  31.63  35.11  41.72  46.13  48.65  51.52  \n",
            "2    Arunachal Pradesh  29.59  31.95  32.51  25.79  28.57  33.00  \n",
            "3                Assam  30.00  30.00  31.51  35.39  33.22  38.03  \n",
            "4                Bihar  31.13  30.83  30.12  33.11  36.09  36.37  \n"
          ]
        },
        {
          "output_type": "execute_result",
          "data": {
            "text/plain": [
              "(742, 10)"
            ]
          },
          "metadata": {},
          "execution_count": 8
        }
      ]
    },
    {
      "cell_type": "code",
      "source": [
        "if df.empty:\n",
        "    raise ValueError(\"The dataset is empty. Please provide a valid dataset.\")"
      ],
      "metadata": {
        "id": "b70r9poszDwj"
      },
      "execution_count": null,
      "outputs": []
    },
    {
      "cell_type": "code",
      "source": [
        "df.fillna(np.nan, inplace=True)\n",
        "df = df.dropna()"
      ],
      "metadata": {
        "id": "0dMX8Lndzu5s"
      },
      "execution_count": null,
      "outputs": []
    },
    {
      "cell_type": "code",
      "source": [
        "relevant_columns = ['Food Commodities', 'State/UT', '2018', '2019', '2020', '2021', '2022', '2023']\n",
        "df = df[relevant_columns]\n",
        "\n",
        "for year in ['2018', '2019', '2020', '2021', '2022', '2023']:\n",
        "    df[year] = pd.to_numeric(df[year], errors='coerce')\n"
      ],
      "metadata": {
        "id": "44Dy6fp9z0T4"
      },
      "execution_count": null,
      "outputs": []
    },
    {
      "cell_type": "code",
      "source": [
        "def forecast_price(commodity, state_ut, forecast_year):\n",
        "\n",
        "    commodity_data = df[(df['Food Commodities'] == commodity) & (df['State/UT'] == state_ut)]\n",
        "\n",
        "    if commodity_data.empty:\n",
        "        raise ValueError(f\"No data available for commodity: {commodity} in {state_ut}.\")\n",
        "\n",
        "    price_data = commodity_data.iloc[0, 2:].values\n",
        "    price_data = pd.to_numeric(price_data, errors='coerce')\n",
        "\n",
        "    if np.isnan(price_data).any():\n",
        "        raise ValueError(\"The price data contains invalid or NaN values. Cannot proceed with forecasting.\")\n",
        "\n",
        "    model = ARIMA(price_data, order=(1, 1, 1))\n",
        "    fitted_model = model.fit()\n",
        "    forecast_steps = forecast_year - 2023\n",
        "    if forecast_steps <= 0:\n",
        "        raise ValueError(\"The forecast year must be in the future.\")\n",
        "\n",
        "    forecast_result = fitted_model.forecast(steps=forecast_steps)\n",
        "    forecast_price = forecast_result[-1]\n",
        "    return forecast_price\n"
      ],
      "metadata": {
        "id": "-YP6jGT3z4rk"
      },
      "execution_count": null,
      "outputs": []
    },
    {
      "cell_type": "code",
      "source": [
        "commodity_name = input(\"Enter the name of the commodity (e.g., Annual Average Retail Prices of Rice): \")\n",
        "state_ut_name = input(\"Enter the name of the state/UT (e.g., Andhra Pradesh): \")\n",
        "year_to_predict = int(input(\"Enter the future year for prediction (2024 or later): \"))\n",
        "\n",
        "try:\n",
        "    predicted_price = forecast_price(commodity_name, state_ut_name, year_to_predict)\n",
        "    print(f\"The predicted price for {commodity_name} in {state_ut_name} for the year {year_to_predict} is Rs.{predicted_price:.2f}/Kg.\")\n",
        "except ValueError as e:\n",
        "    print(f\"Error: {e}\")"
      ],
      "metadata": {
        "colab": {
          "base_uri": "https://localhost:8080/"
        },
        "id": "HYWRxnGd0JDD",
        "outputId": "20bc5859-762e-4ff0-bccb-96327fa0cdd3"
      },
      "execution_count": null,
      "outputs": [
        {
          "output_type": "stream",
          "name": "stdout",
          "text": [
            "Enter the name of the commodity (e.g., Annual Average Retail Prices of Rice): Annual Average Retail Prices of Rice\n",
            "Enter the name of the state/UT (e.g., Andhra Pradesh): Andhra Pradesh\n",
            "Enter the future year for prediction (2024 or later): 2025\n",
            "The predicted price for Annual Average Retail Prices of Rice in Andhra Pradesh for the year 2025 is Rs.54.95/Kg.\n"
          ]
        }
      ]
    }
  ]
}